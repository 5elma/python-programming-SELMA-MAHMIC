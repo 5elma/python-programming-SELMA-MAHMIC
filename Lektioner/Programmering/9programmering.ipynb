{
 "cells": [
  {
   "cell_type": "code",
   "execution_count": 14,
   "metadata": {},
   "outputs": [],
   "source": [
    "from abc import abstractmethod, ABC\n",
    "\n",
    "class Shape(ABC):\n",
    "\n",
    "    @abstractmethod\n",
    "    def area(self):\n",
    "        pass\n",
    "\n",
    "class Square(Shape):\n",
    "    def __init__(self, side):\n",
    "        self._side = side\n",
    "\n",
    "    @property\n",
    "    def side(self):\n",
    "        return self._side\n",
    "    \n",
    "    @property\n",
    "    def area(self):\n",
    "        return self._side**2\n",
    "    \n",
    "class Rectangle:\n",
    "    def __init__(self, long, short):\n",
    "        self._long = long\n",
    "        self._short = short\n",
    "\n",
    "    @property\n",
    "    def area(self):\n",
    "        return self._long * self._short\n",
    "    \n",
    "s = Square(2)\n",
    "r = Rectangle(2,4)\n",
    "\n"
   ]
  },
  {
   "cell_type": "code",
   "execution_count": 19,
   "metadata": {},
   "outputs": [
    {
     "data": {
      "text/plain": [
       "('Einstein', 'Ada', 'Church')"
      ]
     },
     "execution_count": 19,
     "metadata": {},
     "output_type": "execute_result"
    }
   ],
   "source": [
    "class Person:\n",
    "    def __init__(self, name):\n",
    "        self._name = name\n",
    "\n",
    "class Student(Person):\n",
    "    @property\n",
    "    def is_studying(self):\n",
    "        print(f\"{self._name} is studying\")\n",
    "        return True\n",
    "    \n",
    "class Unemployed(Person):\n",
    "    @property\n",
    "    def is_studying(self):\n",
    "        print(f\"{self._name} is not studying\")\n",
    "        return False\n",
    "    \n",
    "u = Unemployed(\"Ada\")\n",
    "s = Student(\"Einstein\")\n",
    "p = Person(\"Church\")\n",
    "\n",
    "s._name, u._name, p._name\n"
   ]
  },
  {
   "cell_type": "code",
   "execution_count": 20,
   "metadata": {},
   "outputs": [
    {
     "name": "stdout",
     "output_type": "stream",
     "text": [
      "Entering with message Hello\n",
      "Hello\n",
      "Exit with message\n"
     ]
    }
   ],
   "source": [
    "class WithMessage(object):\n",
    "    def __init__(self, message):\n",
    "        self.message = message\n",
    "\n",
    "    def __enter__(self):\n",
    "        print(f\"Entering with message {self.message}\")\n",
    "        return self.message\n",
    "    \n",
    "    def __exit__(self, *args):\n",
    "        print(\"Exit with message\")\n",
    "\n",
    "with WithMessage(\"Hello\") as msg:\n",
    "    print(msg)"
   ]
  },
  {
   "cell_type": "code",
   "execution_count": null,
   "metadata": {},
   "outputs": [],
   "source": [
    "class Vector:\n",
    "    \"\"\"A class to represent Euclidean vectors\"\"\"\n",
    "\n",
    "    def __init__(self, *number):\n",
    "        # error checking\n",
    "        for number in numbers:\n",
    "            if not isinstance(number, (float, int)):\n",
    "                raise TypeError(f\"{number} is not a valid number.\")\n",
    "        if len(numbers) <= 0:\n",
    "            raise ValueError(\"Vector cant be empty.\")\n",
    "        \n",
    "        self._numbers = tuple(float(number) for number in numbers)\n",
    "\n",
    "    @property\n",
    "    def numbers(self):\n",
    "        return self._numbers\n",
    "    \n",
    "    def __add__(self, other):\n",
    "        if self.validate_vector(other):\n",
    "                numbers = (a+b for a, b in zip(self.numbers, other.numbers))\n",
    "                return Vector(*numbers)\n",
    "        else:\n",
    "             raise ValueError(f\"{other} is not a Vector.\")\n",
    "\n",
    "\n",
    "    def __len__(self):\n",
    "         return len(self.numbers)\n",
    "    \n",
    "    def validate_vector(self, other):\n",
    "         if not isinstance (other, Vector):\n",
    "              return False\n",
    "         return len(self) == len(other)\n",
    "\n",
    "def __repr__(self):\n",
    "     return f\"Vector{self.numbers}\"\n",
    "\n",
    "v = Vector(2, 4, 5)\n",
    "u = Vector(4, 5, 6)\n",
    "print(u+v)\n"
   ]
  }
 ],
 "metadata": {
  "kernelspec": {
   "display_name": ".venv",
   "language": "python",
   "name": "python3"
  },
  "language_info": {
   "codemirror_mode": {
    "name": "ipython",
    "version": 3
   },
   "file_extension": ".py",
   "mimetype": "text/x-python",
   "name": "python",
   "nbconvert_exporter": "python",
   "pygments_lexer": "ipython3",
   "version": "3.12.5"
  }
 },
 "nbformat": 4,
 "nbformat_minor": 2
}
