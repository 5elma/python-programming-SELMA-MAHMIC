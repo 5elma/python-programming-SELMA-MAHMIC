{
 "cells": [
  {
   "cell_type": "markdown",
   "metadata": {},
   "source": [
    "LAB 2 PICHU & PIKACHU\n"
   ]
  },
  {
   "cell_type": "markdown",
   "metadata": {},
   "source": [
    "1. RENSA OCH SORTERA DATAPOINTS"
   ]
  },
  {
   "cell_type": "code",
   "execution_count": 100,
   "metadata": {},
   "outputs": [
    {
     "data": {
      "text/html": [
       "<div>\n",
       "<style scoped>\n",
       "    .dataframe tbody tr th:only-of-type {\n",
       "        vertical-align: middle;\n",
       "    }\n",
       "\n",
       "    .dataframe tbody tr th {\n",
       "        vertical-align: top;\n",
       "    }\n",
       "\n",
       "    .dataframe thead th {\n",
       "        text-align: right;\n",
       "    }\n",
       "</style>\n",
       "<table border=\"1\" class=\"dataframe\">\n",
       "  <thead>\n",
       "    <tr style=\"text-align: right;\">\n",
       "      <th></th>\n",
       "      <th>(width (cm)</th>\n",
       "      <th>height (cm)</th>\n",
       "      <th>label (0-pichu</th>\n",
       "      <th>1-pikachu))</th>\n",
       "    </tr>\n",
       "  </thead>\n",
       "  <tbody>\n",
       "    <tr>\n",
       "      <th>0</th>\n",
       "      <td>21.959384</td>\n",
       "      <td>31.239567</td>\n",
       "      <td>0</td>\n",
       "      <td>NaN</td>\n",
       "    </tr>\n",
       "    <tr>\n",
       "      <th>1</th>\n",
       "      <td>23.635916</td>\n",
       "      <td>36.468215</td>\n",
       "      <td>1</td>\n",
       "      <td>NaN</td>\n",
       "    </tr>\n",
       "    <tr>\n",
       "      <th>2</th>\n",
       "      <td>17.714056</td>\n",
       "      <td>31.441704</td>\n",
       "      <td>0</td>\n",
       "      <td>NaN</td>\n",
       "    </tr>\n",
       "    <tr>\n",
       "      <th>3</th>\n",
       "      <td>21.780200</td>\n",
       "      <td>33.213398</td>\n",
       "      <td>1</td>\n",
       "      <td>NaN</td>\n",
       "    </tr>\n",
       "    <tr>\n",
       "      <th>4</th>\n",
       "      <td>25.206306</td>\n",
       "      <td>36.558816</td>\n",
       "      <td>1</td>\n",
       "      <td>NaN</td>\n",
       "    </tr>\n",
       "    <tr>\n",
       "      <th>...</th>\n",
       "      <td>...</td>\n",
       "      <td>...</td>\n",
       "      <td>...</td>\n",
       "      <td>...</td>\n",
       "    </tr>\n",
       "    <tr>\n",
       "      <th>145</th>\n",
       "      <td>18.990690</td>\n",
       "      <td>32.387963</td>\n",
       "      <td>0</td>\n",
       "      <td>NaN</td>\n",
       "    </tr>\n",
       "    <tr>\n",
       "      <th>146</th>\n",
       "      <td>23.542000</td>\n",
       "      <td>32.475193</td>\n",
       "      <td>0</td>\n",
       "      <td>NaN</td>\n",
       "    </tr>\n",
       "    <tr>\n",
       "      <th>147</th>\n",
       "      <td>19.640603</td>\n",
       "      <td>30.291557</td>\n",
       "      <td>0</td>\n",
       "      <td>NaN</td>\n",
       "    </tr>\n",
       "    <tr>\n",
       "      <th>148</th>\n",
       "      <td>21.989954</td>\n",
       "      <td>33.645903</td>\n",
       "      <td>1</td>\n",
       "      <td>NaN</td>\n",
       "    </tr>\n",
       "    <tr>\n",
       "      <th>149</th>\n",
       "      <td>22.302103</td>\n",
       "      <td>32.732379</td>\n",
       "      <td>0</td>\n",
       "      <td>NaN</td>\n",
       "    </tr>\n",
       "  </tbody>\n",
       "</table>\n",
       "<p>150 rows × 4 columns</p>\n",
       "</div>"
      ],
      "text/plain": [
       "     (width (cm)   height (cm)   label (0-pichu   1-pikachu))\n",
       "0      21.959384     31.239567                0           NaN\n",
       "1      23.635916     36.468215                1           NaN\n",
       "2      17.714056     31.441704                0           NaN\n",
       "3      21.780200     33.213398                1           NaN\n",
       "4      25.206306     36.558816                1           NaN\n",
       "..           ...           ...              ...           ...\n",
       "145    18.990690     32.387963                0           NaN\n",
       "146    23.542000     32.475193                0           NaN\n",
       "147    19.640603     30.291557                0           NaN\n",
       "148    21.989954     33.645903                1           NaN\n",
       "149    22.302103     32.732379                0           NaN\n",
       "\n",
       "[150 rows x 4 columns]"
      ]
     },
     "execution_count": 100,
     "metadata": {},
     "output_type": "execute_result"
    }
   ],
   "source": [
    "import pandas as pd   # Pandas för att analysera datan\n",
    "\n",
    "dp = pd.read_csv('Datapoints.txt')   # Läs in tetfilen och skapa tabell \n",
    "dp"
   ]
  },
  {
   "cell_type": "code",
   "execution_count": 101,
   "metadata": {},
   "outputs": [
    {
     "data": {
      "text/html": [
       "<div>\n",
       "<style scoped>\n",
       "    .dataframe tbody tr th:only-of-type {\n",
       "        vertical-align: middle;\n",
       "    }\n",
       "\n",
       "    .dataframe tbody tr th {\n",
       "        vertical-align: top;\n",
       "    }\n",
       "\n",
       "    .dataframe thead th {\n",
       "        text-align: right;\n",
       "    }\n",
       "</style>\n",
       "<table border=\"1\" class=\"dataframe\">\n",
       "  <thead>\n",
       "    <tr style=\"text-align: right;\">\n",
       "      <th></th>\n",
       "      <th>Width_cm</th>\n",
       "      <th>Height_cm</th>\n",
       "      <th>pichu_0/pikachu_1</th>\n",
       "    </tr>\n",
       "  </thead>\n",
       "  <tbody>\n",
       "    <tr>\n",
       "      <th>0</th>\n",
       "      <td>21.959384</td>\n",
       "      <td>31.239567</td>\n",
       "      <td>0</td>\n",
       "    </tr>\n",
       "    <tr>\n",
       "      <th>1</th>\n",
       "      <td>23.635916</td>\n",
       "      <td>36.468215</td>\n",
       "      <td>1</td>\n",
       "    </tr>\n",
       "    <tr>\n",
       "      <th>2</th>\n",
       "      <td>17.714056</td>\n",
       "      <td>31.441704</td>\n",
       "      <td>0</td>\n",
       "    </tr>\n",
       "    <tr>\n",
       "      <th>3</th>\n",
       "      <td>21.780200</td>\n",
       "      <td>33.213398</td>\n",
       "      <td>1</td>\n",
       "    </tr>\n",
       "    <tr>\n",
       "      <th>4</th>\n",
       "      <td>25.206306</td>\n",
       "      <td>36.558816</td>\n",
       "      <td>1</td>\n",
       "    </tr>\n",
       "    <tr>\n",
       "      <th>...</th>\n",
       "      <td>...</td>\n",
       "      <td>...</td>\n",
       "      <td>...</td>\n",
       "    </tr>\n",
       "    <tr>\n",
       "      <th>145</th>\n",
       "      <td>18.990690</td>\n",
       "      <td>32.387963</td>\n",
       "      <td>0</td>\n",
       "    </tr>\n",
       "    <tr>\n",
       "      <th>146</th>\n",
       "      <td>23.542000</td>\n",
       "      <td>32.475193</td>\n",
       "      <td>0</td>\n",
       "    </tr>\n",
       "    <tr>\n",
       "      <th>147</th>\n",
       "      <td>19.640603</td>\n",
       "      <td>30.291557</td>\n",
       "      <td>0</td>\n",
       "    </tr>\n",
       "    <tr>\n",
       "      <th>148</th>\n",
       "      <td>21.989954</td>\n",
       "      <td>33.645903</td>\n",
       "      <td>1</td>\n",
       "    </tr>\n",
       "    <tr>\n",
       "      <th>149</th>\n",
       "      <td>22.302103</td>\n",
       "      <td>32.732379</td>\n",
       "      <td>0</td>\n",
       "    </tr>\n",
       "  </tbody>\n",
       "</table>\n",
       "<p>150 rows × 3 columns</p>\n",
       "</div>"
      ],
      "text/plain": [
       "      Width_cm  Height_cm  pichu_0/pikachu_1\n",
       "0    21.959384  31.239567                  0\n",
       "1    23.635916  36.468215                  1\n",
       "2    17.714056  31.441704                  0\n",
       "3    21.780200  33.213398                  1\n",
       "4    25.206306  36.558816                  1\n",
       "..         ...        ...                ...\n",
       "145  18.990690  32.387963                  0\n",
       "146  23.542000  32.475193                  0\n",
       "147  19.640603  30.291557                  0\n",
       "148  21.989954  33.645903                  1\n",
       "149  22.302103  32.732379                  0\n",
       "\n",
       "[150 rows x 3 columns]"
      ]
     },
     "execution_count": 101,
     "metadata": {},
     "output_type": "execute_result"
    }
   ],
   "source": [
    "dp.columns = dp.columns.str.strip().str.replace(\"(\",\"\").str.replace(\")\",\"\").str.capitalize().str.replace(\" \", \"_\")   # Ändra kolumen längst upp\n",
    "dp[\"pichu_0/pikachu_1\"] = dp[\"Label_0-pichu\"]   # Skapa en ny kolumn och namnge på nytt. Spara pichus och pikachus data i nya kolumnen\n",
    "dp = dp.drop([\"Label_0-pichu\", \"1-pikachu\"], axis=1)   # Ta bort den orginala pichu och pikachu kolumnen med dess data\n",
    "dp"
   ]
  },
  {
   "cell_type": "code",
   "execution_count": 102,
   "metadata": {},
   "outputs": [
    {
     "data": {
      "text/html": [
       "<div>\n",
       "<style scoped>\n",
       "    .dataframe tbody tr th:only-of-type {\n",
       "        vertical-align: middle;\n",
       "    }\n",
       "\n",
       "    .dataframe tbody tr th {\n",
       "        vertical-align: top;\n",
       "    }\n",
       "\n",
       "    .dataframe thead th {\n",
       "        text-align: right;\n",
       "    }\n",
       "</style>\n",
       "<table border=\"1\" class=\"dataframe\">\n",
       "  <thead>\n",
       "    <tr style=\"text-align: right;\">\n",
       "      <th></th>\n",
       "      <th>Width_cm</th>\n",
       "      <th>Height_cm</th>\n",
       "      <th>pichu_0/pikachu_1</th>\n",
       "    </tr>\n",
       "  </thead>\n",
       "  <tbody>\n",
       "    <tr>\n",
       "      <th>0</th>\n",
       "      <td>21.959384</td>\n",
       "      <td>31.239567</td>\n",
       "      <td>0</td>\n",
       "    </tr>\n",
       "    <tr>\n",
       "      <th>2</th>\n",
       "      <td>17.714056</td>\n",
       "      <td>31.441704</td>\n",
       "      <td>0</td>\n",
       "    </tr>\n",
       "    <tr>\n",
       "      <th>5</th>\n",
       "      <td>19.332572</td>\n",
       "      <td>32.253256</td>\n",
       "      <td>0</td>\n",
       "    </tr>\n",
       "    <tr>\n",
       "      <th>9</th>\n",
       "      <td>20.191281</td>\n",
       "      <td>35.069669</td>\n",
       "      <td>0</td>\n",
       "    </tr>\n",
       "    <tr>\n",
       "      <th>14</th>\n",
       "      <td>19.639358</td>\n",
       "      <td>34.561170</td>\n",
       "      <td>0</td>\n",
       "    </tr>\n",
       "    <tr>\n",
       "      <th>...</th>\n",
       "      <td>...</td>\n",
       "      <td>...</td>\n",
       "      <td>...</td>\n",
       "    </tr>\n",
       "    <tr>\n",
       "      <th>144</th>\n",
       "      <td>18.124818</td>\n",
       "      <td>31.997288</td>\n",
       "      <td>0</td>\n",
       "    </tr>\n",
       "    <tr>\n",
       "      <th>145</th>\n",
       "      <td>18.990690</td>\n",
       "      <td>32.387963</td>\n",
       "      <td>0</td>\n",
       "    </tr>\n",
       "    <tr>\n",
       "      <th>146</th>\n",
       "      <td>23.542000</td>\n",
       "      <td>32.475193</td>\n",
       "      <td>0</td>\n",
       "    </tr>\n",
       "    <tr>\n",
       "      <th>147</th>\n",
       "      <td>19.640603</td>\n",
       "      <td>30.291557</td>\n",
       "      <td>0</td>\n",
       "    </tr>\n",
       "    <tr>\n",
       "      <th>149</th>\n",
       "      <td>22.302103</td>\n",
       "      <td>32.732379</td>\n",
       "      <td>0</td>\n",
       "    </tr>\n",
       "  </tbody>\n",
       "</table>\n",
       "<p>75 rows × 3 columns</p>\n",
       "</div>"
      ],
      "text/plain": [
       "      Width_cm  Height_cm  pichu_0/pikachu_1\n",
       "0    21.959384  31.239567                  0\n",
       "2    17.714056  31.441704                  0\n",
       "5    19.332572  32.253256                  0\n",
       "9    20.191281  35.069669                  0\n",
       "14   19.639358  34.561170                  0\n",
       "..         ...        ...                ...\n",
       "144  18.124818  31.997288                  0\n",
       "145  18.990690  32.387963                  0\n",
       "146  23.542000  32.475193                  0\n",
       "147  19.640603  30.291557                  0\n",
       "149  22.302103  32.732379                  0\n",
       "\n",
       "[75 rows x 3 columns]"
      ]
     },
     "execution_count": 102,
     "metadata": {},
     "output_type": "execute_result"
    }
   ],
   "source": [
    "# Dela upp datapoints i pichu och pikachu\n",
    "pichu = dp[dp[\"pichu_0/pikachu_1\"] == 0]\n",
    "pikachu = dp[dp[\"pichu_0/pikachu_1\"] == 1]\n",
    "pichu"
   ]
  },
  {
   "cell_type": "markdown",
   "metadata": {},
   "source": [
    "2. PLOTTA ALLA PUNKTER FRÅN DATAPOINTS"
   ]
  },
  {
   "cell_type": "code",
   "execution_count": 103,
   "metadata": {},
   "outputs": [
    {
     "data": {
      "text/plain": [
       "<matplotlib.collections.PathCollection at 0x19eeee3a270>"
      ]
     },
     "execution_count": 103,
     "metadata": {},
     "output_type": "execute_result"
    },
    {
     "data": {
      "image/png": "[encoded data removed]",
      "text/plain": [
       "<Figure size 640x480 with 1 Axes>"
      ]
     },
     "metadata": {},
     "output_type": "display_data"
    }
   ],
   "source": [
    "# Importera matplotlib för att få fram sprdningsdiagram\n",
    "import matplotlib.pyplot as plt\n",
    "plt.scatter(x=pichu[\"Height_cm\"], y=pichu[\"Width_cm\"], color=\"red\")\n",
    "plt.scatter(x=pikachu[\"Height_cm\"], y=pikachu[\"Width_cm\"], color=\"green\")\n",
    "\n"
   ]
  },
  {
   "cell_type": "markdown",
   "metadata": {},
   "source": [
    "3. RENSA OCH SORTERA TESTPOINTS"
   ]
  },
  {
   "cell_type": "code",
   "execution_count": 104,
   "metadata": {},
   "outputs": [
    {
     "data": {
      "text/plain": [
       "['Test points:\\n',\n",
       " '1. (25, 32)\\n',\n",
       " '2. (24.2, 31.5)\\n',\n",
       " '3. (22, 34)\\n',\n",
       " '4. (20.5, 34)']"
      ]
     },
     "execution_count": 104,
     "metadata": {},
     "output_type": "execute_result"
    }
   ],
   "source": [
    "# Skapa tom lista för att läsa in textfilen och spara i listan\n",
    "listt = []\n",
    "with open(\"Testpoints.txt\", \"r\") as file:\n",
    "    content = file.readlines()\n",
    "    for x in content:\n",
    "        listt.append(x)\n",
    "listt\n",
    "\n"
   ]
  },
  {
   "cell_type": "code",
   "execution_count": 105,
   "metadata": {},
   "outputs": [
    {
     "data": {
      "text/html": [
       "<div>\n",
       "<style scoped>\n",
       "    .dataframe tbody tr th:only-of-type {\n",
       "        vertical-align: middle;\n",
       "    }\n",
       "\n",
       "    .dataframe tbody tr th {\n",
       "        vertical-align: top;\n",
       "    }\n",
       "\n",
       "    .dataframe thead th {\n",
       "        text-align: right;\n",
       "    }\n",
       "</style>\n",
       "<table border=\"1\" class=\"dataframe\">\n",
       "  <thead>\n",
       "    <tr style=\"text-align: right;\">\n",
       "      <th></th>\n",
       "      <th>bred</th>\n",
       "      <th>längd</th>\n",
       "    </tr>\n",
       "  </thead>\n",
       "  <tbody>\n",
       "    <tr>\n",
       "      <th>0</th>\n",
       "      <td>NaN</td>\n",
       "      <td>NaN</td>\n",
       "    </tr>\n",
       "    <tr>\n",
       "      <th>1</th>\n",
       "      <td>25</td>\n",
       "      <td>32</td>\n",
       "    </tr>\n",
       "    <tr>\n",
       "      <th>2</th>\n",
       "      <td>24.2</td>\n",
       "      <td>31.5</td>\n",
       "    </tr>\n",
       "    <tr>\n",
       "      <th>3</th>\n",
       "      <td>22</td>\n",
       "      <td>34</td>\n",
       "    </tr>\n",
       "    <tr>\n",
       "      <th>4</th>\n",
       "      <td>20.5</td>\n",
       "      <td>34</td>\n",
       "    </tr>\n",
       "  </tbody>\n",
       "</table>\n",
       "</div>"
      ],
      "text/plain": [
       "   bred  längd\n",
       "0   NaN    NaN\n",
       "1    25     32\n",
       "2  24.2   31.5\n",
       "3    22     34\n",
       "4  20.5     34"
      ]
     },
     "execution_count": 105,
     "metadata": {},
     "output_type": "execute_result"
    }
   ],
   "source": [
    "import pandas as pd\n",
    "tp = pd.DataFrame(listt, columns=[\"test_points\"])   # DataFrame för att kunna spara i tabell, skapa en ny kolumn\n",
    "# Skapa två nya kolumner och spara info från första kolumnen\n",
    "tp[\"bred\"]= tp[\"test_points\"].str.split(\"(\").str.get(1).str.split(\",\").str.get(0)\n",
    "tp[\"längd\"]= tp[\"test_points\"].str.split(\")\").str.get(0).str.split(\",\").str.get(1)\n",
    "tp = tp.drop(\"test_points\", axis=1)   # Radera första orginal kolumnen  \n",
    "tp"
   ]
  },
  {
   "cell_type": "code",
   "execution_count": 106,
   "metadata": {},
   "outputs": [
    {
     "data": {
      "text/html": [
       "<div>\n",
       "<style scoped>\n",
       "    .dataframe tbody tr th:only-of-type {\n",
       "        vertical-align: middle;\n",
       "    }\n",
       "\n",
       "    .dataframe tbody tr th {\n",
       "        vertical-align: top;\n",
       "    }\n",
       "\n",
       "    .dataframe thead th {\n",
       "        text-align: right;\n",
       "    }\n",
       "</style>\n",
       "<table border=\"1\" class=\"dataframe\">\n",
       "  <thead>\n",
       "    <tr style=\"text-align: right;\">\n",
       "      <th></th>\n",
       "      <th>bred</th>\n",
       "      <th>längd</th>\n",
       "    </tr>\n",
       "  </thead>\n",
       "  <tbody>\n",
       "    <tr>\n",
       "      <th>1</th>\n",
       "      <td>25</td>\n",
       "      <td>32</td>\n",
       "    </tr>\n",
       "    <tr>\n",
       "      <th>2</th>\n",
       "      <td>24.2</td>\n",
       "      <td>31.5</td>\n",
       "    </tr>\n",
       "    <tr>\n",
       "      <th>3</th>\n",
       "      <td>22</td>\n",
       "      <td>34</td>\n",
       "    </tr>\n",
       "    <tr>\n",
       "      <th>4</th>\n",
       "      <td>20.5</td>\n",
       "      <td>34</td>\n",
       "    </tr>\n",
       "  </tbody>\n",
       "</table>\n",
       "</div>"
      ],
      "text/plain": [
       "   bred  längd\n",
       "1    25     32\n",
       "2  24.2   31.5\n",
       "3    22     34\n",
       "4  20.5     34"
      ]
     },
     "execution_count": 106,
     "metadata": {},
     "output_type": "execute_result"
    }
   ],
   "source": [
    "# Radera rad 0 från testpoints\n",
    "tp = tp.drop(0, axis=0)\n",
    "tp"
   ]
  },
  {
   "cell_type": "code",
   "execution_count": 107,
   "metadata": {},
   "outputs": [
    {
     "data": {
      "text/html": [
       "<div>\n",
       "<style scoped>\n",
       "    .dataframe tbody tr th:only-of-type {\n",
       "        vertical-align: middle;\n",
       "    }\n",
       "\n",
       "    .dataframe tbody tr th {\n",
       "        vertical-align: top;\n",
       "    }\n",
       "\n",
       "    .dataframe thead th {\n",
       "        text-align: right;\n",
       "    }\n",
       "</style>\n",
       "<table border=\"1\" class=\"dataframe\">\n",
       "  <thead>\n",
       "    <tr style=\"text-align: right;\">\n",
       "      <th></th>\n",
       "      <th>bred</th>\n",
       "      <th>längd</th>\n",
       "    </tr>\n",
       "  </thead>\n",
       "  <tbody>\n",
       "    <tr>\n",
       "      <th>1</th>\n",
       "      <td>25.0</td>\n",
       "      <td>32.0</td>\n",
       "    </tr>\n",
       "    <tr>\n",
       "      <th>2</th>\n",
       "      <td>24.2</td>\n",
       "      <td>31.5</td>\n",
       "    </tr>\n",
       "    <tr>\n",
       "      <th>3</th>\n",
       "      <td>22.0</td>\n",
       "      <td>34.0</td>\n",
       "    </tr>\n",
       "    <tr>\n",
       "      <th>4</th>\n",
       "      <td>20.5</td>\n",
       "      <td>34.0</td>\n",
       "    </tr>\n",
       "  </tbody>\n",
       "</table>\n",
       "</div>"
      ],
      "text/plain": [
       "   bred  längd\n",
       "1  25.0   32.0\n",
       "2  24.2   31.5\n",
       "3  22.0   34.0\n",
       "4  20.5   34.0"
      ]
     },
     "execution_count": 107,
     "metadata": {},
     "output_type": "execute_result"
    }
   ],
   "source": [
    "import numpy as np\n",
    "tp[[\"bred\", \"längd\"]] = tp[[\"bred\", \"längd\"]].astype(float)   # Ändra datatypen från str till float\n",
    "tp"
   ]
  },
  {
   "cell_type": "markdown",
   "metadata": {},
   "source": [
    "4. BERÄKNA AVSTÅND MELLAN DATAPOINTS OCH TESTPOINTS"
   ]
  },
  {
   "cell_type": "code",
   "execution_count": 113,
   "metadata": {},
   "outputs": [
    {
     "name": "stdout",
     "output_type": "stream",
     "text": [
      "(25.0, 32.0 is classified as ('Pikachu at row', 111)\n",
      "(24.2, 31.5 is classified as ('Pikachu at row', 45)\n",
      "(22.0, 34.0 is classified as ('Pikachu at row', 148)\n",
      "(20.5, 34.0 is classified as ('Pichu at row', 53)\n"
     ]
    }
   ],
   "source": [
    "\n",
    "def pichu(w, h):\n",
    "   ord = []   # Tom lista där avstånden ska sparas\n",
    "   for x, y in zip(dp[\"Width_cm\"], dp[\"Height_cm\"]):   # Loopa igenom kolumerna och sätt ihop dem\n",
    "        ord.append(np.sqrt(np.power(x-w, 2)+np.power(y-h, 2)))  # Beräkna avståndet mellan punkterna och lägg till i listan\n",
    "   minsta = min(ord)   # Hitta minsta avstånden i listan ord och spara i ny variabel\n",
    "   indeks = ord.index(minsta)   # Index ska se på vilken rad variabeln \"minsta\" finns\n",
    "   if dp.loc[indeks, 'pichu_0/pikachu_1'] == 0: # Loklisera raden och se ifall det är pichu eller pikachu \n",
    "       return \"Pichu at row\", indeks   # indeks för att skriva ut rad nummer\n",
    "   else:\n",
    "       return \"Pikachu at row\", indeks\n",
    "   \n",
    "\n",
    "for a, b in zip(tp[\"bred\"], tp[\"längd\"]): # Loopa igenom kolumnerna i tabellen testpoints\n",
    "    svar =  pichu(a, b)\n",
    "    print(f\"({a}, {b} is classified as {svar}\")\n",
    "\n"
   ]
  },
  {
   "cell_type": "code",
   "execution_count": 118,
   "metadata": {},
   "outputs": [
    {
     "name": "stdout",
     "output_type": "stream",
     "text": [
      "('Pikachu at row', 125)\n",
      "('Classified as Pikachu, based on majority of 10 nearest points', 7)\n"
     ]
    }
   ],
   "source": [
    "\n",
    "while True:\n",
    "    user_width = input(\"Ange bredd i positivt nummer: \")   \n",
    "    user_height = input(\"Ange längd i ett positivt nummer: \") \n",
    "    try:\n",
    "        user_input = float(user_width.replace(\",\", \".\"))   # Ersätt \",\" med \".\" så att det blir en float\n",
    "        user_input2 = float(user_height.replace(\",\", \".\"))\n",
    "        if user_input < 0 or user_input2 < 0:\n",
    "            print(\"Fel: Värdet kan inte vara negativt. Försök igen.\")\n",
    "        else:\n",
    "            print(pichu(user_input, user_input2))\n",
    "            print(pikachu(user_input, user_input2))\n",
    "            \n",
    "            break\n",
    "    except ValueError:\n",
    "        print(\"Fel: Vänligen mata in ett numeriskt värde. Försök igen.\")\n",
    "    \n"
   ]
  },
  {
   "cell_type": "markdown",
   "metadata": {},
   "source": [
    "10 NÄRMASTE PUNKTER TILL TESTPUNKT"
   ]
  },
  {
   "cell_type": "code",
   "execution_count": 125,
   "metadata": {},
   "outputs": [
    {
     "name": "stdout",
     "output_type": "stream",
     "text": [
      "('Classified as Pikachu, based on majority of 10 nearest points', '8 of 10')\n",
      "('Classified as Pichu, based on majority of 10 nearest points', '5 of 10')\n",
      "('Classified as Pikachu, based on majority of 10 nearest points', '7 of 10')\n",
      "('Classified as Pichu, based on majority of 10 nearest points', '2 of 10')\n"
     ]
    }
   ],
   "source": [
    "\n",
    "\n",
    "def pikachu(w, h):  \n",
    "   distances = []   # Tom lista där avstånden ska sparas\n",
    "   for x, y in zip(dp[\"Width_cm\"], dp[\"Height_cm\"]):   # Loopa igenom kolumerna och sätt ihop dem\n",
    "        distances.append(np.sqrt(np.power(x-w, 2)+np.power(y-h, 2)))  # Beräkna avståndet mellan punkterna och lägg till i listan med append\n",
    "   sort_distances = sorted(distances)   # Sortera listan distances från lågt till högt och spara i ny variabel\n",
    "   sortten = sort_distances[:10]   # Skapa ny variabel där den sorterade datan räknar 10 punkter\n",
    "   indeks = [distances.index(x) for x in sortten]   # Index ska se på vilken rad variabeln \"sortten\" finns\n",
    "   rads = dp.loc[indeks, 'pichu_0/pikachu_1']   # Loklisera raden och se ifall det är pichu eller pikachu \n",
    "   if sum(rads) > 5:\n",
    "       return \"Classified as Pikachu, based on majority of 10 nearest points\", f\"{sum(rads)} of 10\"\n",
    "   else:\n",
    "       return \"Classified as Pichu, based on majority of 10 nearest points\", f\"{sum(rads)} of 10\"\n",
    "   \n",
    "\n",
    "for w, h in zip(tp[\"bred\"], tp[\"längd\"]):   # Loopa igenom kolumnerna i tabllen testpoints\n",
    "    print(pikachu(w, h))\n",
    "\n",
    "\n",
    "    "
   ]
  }
 ],
 "metadata": {
  "kernelspec": {
   "display_name": ".venv",
   "language": "python",
   "name": "python3"
  },
  "language_info": {
   "codemirror_mode": {
    "name": "ipython",
    "version": 3
   },
   "file_extension": ".py",
   "mimetype": "text/x-python",
   "name": "python",
   "nbconvert_exporter": "python",
   "pygments_lexer": "ipython3",
   "version": "3.12.5"
  }
 },
 "nbformat": 4,
 "nbformat_minor": 2
}
