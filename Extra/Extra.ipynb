{
 "cells": [
  {
   "cell_type": "markdown",
   "metadata": {},
   "source": [
    "\n",
    "Prioritet\tOperatorer\n",
    "Hög\t           **\n",
    "\n",
    "Mellan         *   /   //   %\n",
    "\n",
    "Låg\t           +    −\n",
    "\n",
    "\n",
    "**0,5  =  roten ur\n",
    "\n",
    "0 = Rad\n",
    "1 = Column"
   ]
  },
  {
   "cell_type": "code",
   "execution_count": 13,
   "metadata": {},
   "outputs": [
    {
     "name": "stdout",
     "output_type": "stream",
     "text": [
      "4\n",
      "1.23 1.2346\n"
     ]
    }
   ],
   "source": [
    "x = round(3.99) #x = 4\n",
    "\n",
    "print(x)\n",
    "\n",
    "x = round(1.23456, 2)  #x = 1.23\n",
    "y = round(1.23456, 4)  #y = 1.2346\n",
    "\n",
    "print(x, y)"
   ]
  },
  {
   "cell_type": "code",
   "execution_count": 14,
   "metadata": {},
   "outputs": [
    {
     "name": "stdout",
     "output_type": "stream",
     "text": [
      "3.1416\n"
     ]
    }
   ],
   "source": [
    "from math import pi\n",
    "x = round(pi,4)\n",
    "print(x)"
   ]
  },
  {
   "cell_type": "code",
   "execution_count": 15,
   "metadata": {},
   "outputs": [
    {
     "name": "stdout",
     "output_type": "stream",
     "text": [
      "x + y = 10.0\n"
     ]
    }
   ],
   "source": [
    "x = 0.5 + 1\n",
    "y = 8.5\n",
    "print('x + y = ' + str(x + y))"
   ]
  },
  {
   "cell_type": "code",
   "execution_count": null,
   "metadata": {},
   "outputs": [],
   "source": [
    "with open(\"Datapoints.txt\", \"r\") as file:\n",
    "    dp = file.read()\n",
    "\n",
    "# Funktion för att läsa punkter från en textfil\n",
    "def read_points_from_file(filename):\n",
    "    points = []\n",
    "    with open(filename, \"r\") as file:\n",
    "        for line in file:\n",
    "            # Ta bort whitespace och newline, och konvertera strängen till en tuple\n",
    "            point = eval(line.strip())\n",
    "            points.append(point)\n",
    "    return points\n",
    "\n",
    "# Anropa funktionen och skriv ut punkterna\n",
    "filename = \"points.txt\"\n",
    "points_list = read_points_from_file(filename)\n",
    "\n",
    "# Skriv ut punkterna\n",
    "print(points_list)\n",
    "\n",
    "\n",
    "# Splitting data into two groups based on label\n",
    "pichu_data = [(w, h) for w, h, label in data if label == 0]\n",
    "pikachu_data = [(w, h) for w, h, label in data if label == 1]\n",
    "\n",
    "# Extracting width and height for plotting\n",
    "pichu_width, pichu_height = zip(*pichu_data)\n",
    "pikachu_width, pikachu_height = zip(*pikachu_data)\n",
    "\n",
    "# Plotting the data\n",
    "plt.figure(figsize=(8, 6))\n",
    "plt.scatter(pichu_width, pichu_height, color='blue', label='Pichu', marker='o')\n",
    "plt.scatter(pikachu_width, pikachu_height, color='orange', label='Pikachu', marker='o')\n",
    "\n",
    "# Labels and title\n",
    "plt.xlabel('Width (cm)')\n",
    "plt.ylabel('Height (cm)')\n",
    "plt.title('Pichu vs Pikachu: Width vs Height')\n",
    "plt.legend()\n",
    "\n",
    "# Show the plot\n",
    "plt.grid(True)\n",
    "plt.show()\n",
    "\n",
    "\n",
    "# Ange sökvägarna till dina textfiler\n",
    "file_path_1 = 'Datapoints.txt'\n",
    "file_path_2 = 'Testpoints.txt'\n",
    "\n",
    "# Anropa funktionen för att läsa in båda filerna\n",
    "list1 = read_file_to_list(file_path_1)\n",
    "list2 = read_file_to_list(file_path_2)\n",
    "\n",
    "# Skriv ut innehållet i båda listorna\n",
    "print(\"Innehåll i Datapoints.txt:\")\n",
    "for line in list1:\n",
    "    print(line)\n",
    "\n",
    "print(\"\\nInnehåll i Testpoints.txt:\")\n",
    "for line in list2:\n",
    "    print(line)\n"
   ]
  },
  {
   "cell_type": "code",
   "execution_count": null,
   "metadata": {},
   "outputs": [],
   "source": [
    "# Funktion för att läsa punkter från en textfil\n",
    "with open(\"test.txt\", \"r\") as file:\n",
    "    datapoints = file.read()\n",
    "    dp = []  # Skapa en tom lista för att lagra punkter\n",
    "    \n",
    "    # Öppna filen i läsläge\n",
    "    with open(filename, \"r\") as file:\n",
    "        # Gå igenom varje rad i filen\n",
    "        for line in file:\n",
    "            # Ta bort eventuella extra mellanslag och newline-tecken\n",
    "            line = line.strip()\n",
    "            \n",
    "            # Om raden inte är tom, konvertera den till en tuple\n",
    "            if line:  # Kontrollerar att raden inte är tom\n",
    "                \n",
    "                points.append(point)  # Lägg till punkten i listan\n",
    "    \n",
    "return points  # Returnera listan med punkter\n",
    "\n",
    "# Anropa funktionen och skriv ut punkterna\n",
    "filename = \"test.txt\"\n",
    "points_list = \n",
    "\n",
    "# Skriv ut punkterna\n",
    "print(points_list)\n"
   ]
  },
  {
   "cell_type": "code",
   "execution_count": null,
   "metadata": {},
   "outputs": [],
   "source": [
    "# Funktion för att läsa punkter från en textfil\n",
    "def read_points_from_file(filename):\n",
    "    dp = []  # Skapa en tom lista för att lagra punkter\n",
    "    \n",
    "    # Öppna filen i läsläge\n",
    "    with open(filename, \"r\") as file:\n",
    "        # Gå igenom varje rad i filen\n",
    "        for line in file:\n",
    "            # Ta bort eventuella extra mellanslag och newline-tecken\n",
    "            line = line.strip()\n",
    "            \n",
    "            # Om raden inte är tom, konvertera den till en tuple\n",
    "            if line:  # Kontrollerar att raden inte är tom\n",
    "                point = tuple(map(float, line.strip().split(\",\")))\n",
    "                dp.append(point)  # Lägg till punkten i listan\n",
    "    \n",
    "    return dp  # Returnera listan med punkter\n",
    "\n",
    "# Anropa funktionen och skriv ut punkterna\n",
    "filename = \"test.txt\"\n",
    "points_list = read_points_from_file(filename)\n",
    "\n"
   ]
  },
  {
   "cell_type": "code",
   "execution_count": 24,
   "metadata": {},
   "outputs": [
    {
     "ename": "NameError",
     "evalue": "name 'width' is not defined",
     "output_type": "error",
     "traceback": [
      "\u001b[1;31m---------------------------------------------------------------------------\u001b[0m",
      "\u001b[1;31mNameError\u001b[0m                                 Traceback (most recent call last)",
      "Cell \u001b[1;32mIn[24], line 23\u001b[0m\n\u001b[0;32m     21\u001b[0m \u001b[38;5;66;03m# Anropa funktionen och skriv ut punkterna från den första filen\u001b[39;00m\n\u001b[0;32m     22\u001b[0m filename1 \u001b[38;5;241m=\u001b[39m \u001b[38;5;124m\"\u001b[39m\u001b[38;5;124mtest.txt\u001b[39m\u001b[38;5;124m\"\u001b[39m\n\u001b[1;32m---> 23\u001b[0m points_list \u001b[38;5;241m=\u001b[39m \u001b[43mread_points_from_file\u001b[49m\u001b[43m(\u001b[49m\u001b[43mfilename1\u001b[49m\u001b[43m)\u001b[49m\n\u001b[0;32m     25\u001b[0m \u001b[38;5;66;03m# Anropa funktionen för den andra filen\u001b[39;00m\n\u001b[0;32m     26\u001b[0m filename2 \u001b[38;5;241m=\u001b[39m \u001b[38;5;124m\"\u001b[39m\u001b[38;5;124manother_test.txt\u001b[39m\u001b[38;5;124m\"\u001b[39m\n",
      "Cell \u001b[1;32mIn[24], line 12\u001b[0m, in \u001b[0;36mread_points_from_file\u001b[1;34m(filename)\u001b[0m\n\u001b[0;32m     10\u001b[0m         line \u001b[38;5;241m=\u001b[39m line\u001b[38;5;241m.\u001b[39mstrip()\n\u001b[0;32m     11\u001b[0m         \u001b[38;5;28;01mif\u001b[39;00m line:  \u001b[38;5;66;03m# Kontrollerar att raden inte är tom\u001b[39;00m\n\u001b[1;32m---> 12\u001b[0m             point \u001b[38;5;241m=\u001b[39m \u001b[38;5;28;43meval\u001b[39;49m\u001b[43m(\u001b[49m\u001b[43mline\u001b[49m\u001b[43m)\u001b[49m  \u001b[38;5;66;03m# Använd eval för att konvertera strängen till en tuple\u001b[39;00m\n\u001b[0;32m     13\u001b[0m             dp\u001b[38;5;241m.\u001b[39mappend(point)  \u001b[38;5;66;03m# Lägg till punkten i listan\u001b[39;00m\n\u001b[0;32m     15\u001b[0m \u001b[38;5;28;01mreturn\u001b[39;00m dp\n",
      "File \u001b[1;32m<string>:1\u001b[0m\n",
      "\u001b[1;31mNameError\u001b[0m: name 'width' is not defined"
     ]
    }
   ],
   "source": [
    "import math\n",
    "\n",
    "# Funktion för att läsa punkter från en textfil\n",
    "def read_points_from_file(filename):\n",
    "    dp = []  # Skapa en tom lista för att lagra punkter\n",
    "    \n",
    "    # Öppna filen i läsläge\n",
    "    with open(\"test.txt\", \"r\") as file:\n",
    "        for line in file:\n",
    "            line = line.strip()\n",
    "            if line:  # Kontrollerar att raden inte är tom\n",
    "                point = eval(line)  # Använd eval för att konvertera strängen till en tuple\n",
    "                dp.append(point)  # Lägg till punkten i listan\n",
    "    \n",
    "    return dp  # Returnera listan med punkter\n",
    "\n",
    "# Funktion för att beräkna avstånd mellan två punkter\n",
    "def calculate_distance(point1, point2):\n",
    "    return math.sqrt((point1[0] - point2[0]) ** 2 + (point1[1] - point2[1]) ** 2)\n",
    "\n",
    "# Anropa funktionen och skriv ut punkterna från den första filen\n",
    "filename1 = \"test.txt\"\n",
    "points_list = read_points_from_file(filename1)\n",
    "\n",
    "# Anropa funktionen för den andra filen\n",
    "filename2 = \"another_test.txt\"\n",
    "new_points_list = read_points_from_file(filename2)\n",
    "\n",
    "# Jämför punkterna\n",
    "for new_point in new_points_list:\n",
    "    for existing_point in points_list:\n",
    "        # Kontrollera om punkterna är lika\n",
    "        if new_point == existing_point:\n",
    "            print(f\"Punkterna {new_point} är lika med {existing_point}.\")\n",
    "        else:\n",
    "            # Beräkna avståndet mellan punkterna\n",
    "            distance = calculate_distance(new_point, existing_point)\n",
    "            print(f\"Avståndet mellan {new_point} och {existing_point} är {distance:.2f}.\")\n"
   ]
  },
  {
   "cell_type": "code",
   "execution_count": 26,
   "metadata": {},
   "outputs": [
    {
     "ename": "FileNotFoundError",
     "evalue": "[Errno 2] No such file or directory: 'Datapoints.txt'",
     "output_type": "error",
     "traceback": [
      "\u001b[1;31m---------------------------------------------------------------------------\u001b[0m",
      "\u001b[1;31mFileNotFoundError\u001b[0m                         Traceback (most recent call last)",
      "Cell \u001b[1;32mIn[26], line 38\u001b[0m\n\u001b[0;32m     35\u001b[0m datapoints_filename \u001b[38;5;241m=\u001b[39m \u001b[38;5;124m\"\u001b[39m\u001b[38;5;124mDatapoints.txt\u001b[39m\u001b[38;5;124m\"\u001b[39m\n\u001b[0;32m     36\u001b[0m testpoints_filename \u001b[38;5;241m=\u001b[39m \u001b[38;5;124m\"\u001b[39m\u001b[38;5;124mTestpoints.txt\u001b[39m\u001b[38;5;124m\"\u001b[39m\n\u001b[1;32m---> 38\u001b[0m datapoints_list \u001b[38;5;241m=\u001b[39m \u001b[43mread_datapoints_from_file\u001b[49m\u001b[43m(\u001b[49m\u001b[43mdatapoints_filename\u001b[49m\u001b[43m)\u001b[49m\n\u001b[0;32m     39\u001b[0m testpoints_list \u001b[38;5;241m=\u001b[39m read_testpoints_from_file(testpoints_filename)\n\u001b[0;32m     41\u001b[0m \u001b[38;5;66;03m# Beräkna avstånd mellan varje datapunkt och varje testpunkt\u001b[39;00m\n",
      "Cell \u001b[1;32mIn[26], line 7\u001b[0m, in \u001b[0;36mread_datapoints_from_file\u001b[1;34m(filename)\u001b[0m\n\u001b[0;32m      5\u001b[0m \u001b[38;5;28;01mdef\u001b[39;00m \u001b[38;5;21mread_datapoints_from_file\u001b[39m(filename):\n\u001b[0;32m      6\u001b[0m     datapoints \u001b[38;5;241m=\u001b[39m []\n\u001b[1;32m----> 7\u001b[0m     \u001b[38;5;28;01mwith\u001b[39;00m \u001b[38;5;28;43mopen\u001b[39;49m\u001b[43m(\u001b[49m\u001b[43mfilename\u001b[49m\u001b[43m,\u001b[49m\u001b[43m \u001b[49m\u001b[38;5;124;43m\"\u001b[39;49m\u001b[38;5;124;43mr\u001b[39;49m\u001b[38;5;124;43m\"\u001b[39;49m\u001b[43m)\u001b[49m \u001b[38;5;28;01mas\u001b[39;00m file:\n\u001b[0;32m      8\u001b[0m         \u001b[38;5;28;01mfor\u001b[39;00m line \u001b[38;5;129;01min\u001b[39;00m file:\n\u001b[0;32m      9\u001b[0m             line \u001b[38;5;241m=\u001b[39m line\u001b[38;5;241m.\u001b[39mstrip()\n",
      "File \u001b[1;32mc:\\vsc.selma\\python-programming-SELMA-MAHMIC\\.venv\\Lib\\site-packages\\IPython\\core\\interactiveshell.py:324\u001b[0m, in \u001b[0;36m_modified_open\u001b[1;34m(file, *args, **kwargs)\u001b[0m\n\u001b[0;32m    317\u001b[0m \u001b[38;5;28;01mif\u001b[39;00m file \u001b[38;5;129;01min\u001b[39;00m {\u001b[38;5;241m0\u001b[39m, \u001b[38;5;241m1\u001b[39m, \u001b[38;5;241m2\u001b[39m}:\n\u001b[0;32m    318\u001b[0m     \u001b[38;5;28;01mraise\u001b[39;00m \u001b[38;5;167;01mValueError\u001b[39;00m(\n\u001b[0;32m    319\u001b[0m         \u001b[38;5;124mf\u001b[39m\u001b[38;5;124m\"\u001b[39m\u001b[38;5;124mIPython won\u001b[39m\u001b[38;5;124m'\u001b[39m\u001b[38;5;124mt let you open fd=\u001b[39m\u001b[38;5;132;01m{\u001b[39;00mfile\u001b[38;5;132;01m}\u001b[39;00m\u001b[38;5;124m by default \u001b[39m\u001b[38;5;124m\"\u001b[39m\n\u001b[0;32m    320\u001b[0m         \u001b[38;5;124m\"\u001b[39m\u001b[38;5;124mas it is likely to crash IPython. If you know what you are doing, \u001b[39m\u001b[38;5;124m\"\u001b[39m\n\u001b[0;32m    321\u001b[0m         \u001b[38;5;124m\"\u001b[39m\u001b[38;5;124myou can use builtins\u001b[39m\u001b[38;5;124m'\u001b[39m\u001b[38;5;124m open.\u001b[39m\u001b[38;5;124m\"\u001b[39m\n\u001b[0;32m    322\u001b[0m     )\n\u001b[1;32m--> 324\u001b[0m \u001b[38;5;28;01mreturn\u001b[39;00m \u001b[43mio_open\u001b[49m\u001b[43m(\u001b[49m\u001b[43mfile\u001b[49m\u001b[43m,\u001b[49m\u001b[43m \u001b[49m\u001b[38;5;241;43m*\u001b[39;49m\u001b[43margs\u001b[49m\u001b[43m,\u001b[49m\u001b[43m \u001b[49m\u001b[38;5;241;43m*\u001b[39;49m\u001b[38;5;241;43m*\u001b[39;49m\u001b[43mkwargs\u001b[49m\u001b[43m)\u001b[49m\n",
      "\u001b[1;31mFileNotFoundError\u001b[0m: [Errno 2] No such file or directory: 'Datapoints.txt'"
     ]
    }
   ],
   "source": [
    "import matplotlib.pyplot as plt\n",
    "import math\n",
    "\n",
    "# Funktion för att läsa datapunkter från Datapoints.txt\n",
    "def read_datapoints_from_file(filename):\n",
    "    datapoints = []\n",
    "    with open(filename, \"r\") as file:\n",
    "        for line in file:\n",
    "            line = line.strip()\n",
    "            if line:  # Kontrollera att raden inte är tom\n",
    "                width, height, label = line.split(\", \")\n",
    "                point = (float(width), float(height), int(label))\n",
    "                datapoints.append(point)\n",
    "    return datapoints\n",
    "\n",
    "# Funktion för att läsa testpunkter från Testpoints.txt\n",
    "def read_testpoints_from_file(filename):\n",
    "    testpoints = []\n",
    "    with open(filename, \"r\") as file:\n",
    "        for line in file:\n",
    "            line = line.strip()\n",
    "            if line.startswith(\"Test points:\"):\n",
    "                continue  # Hoppa över headern\n",
    "            if line:  # Kontrollera att raden inte är tom\n",
    "                point = line.split(\")\")[0].replace(\"(\", \"\").strip()\n",
    "                x, y = map(float, point.split(\", \"))\n",
    "                testpoints.append((x, y))\n",
    "    return testpoints\n",
    "\n",
    "# Funktion för att beräkna euklidiskt avstånd\n",
    "def euclidean_distance(point1, point2):\n",
    "    return math.sqrt((point1[0] - point2[0])**2 + (point1[1] - point2[1])**2)\n",
    "\n",
    "# Anropa funktionerna för att läsa in datapunkterna och testpunkterna\n",
    "datapoints_filename = \"Datapoints.txt\"\n",
    "testpoints_filename = \"Testpoints.txt\"\n",
    "\n",
    "datapoints_list = read_datapoints_from_file(datapoints_filename)\n",
    "testpoints_list = read_testpoints_from_file(testpoints_filename)\n",
    "\n",
    "# Beräkna avstånd mellan varje datapunkt och varje testpunkt\n",
    "distances = []\n",
    "\n",
    "for dp in datapoints_list:\n",
    "    dp_coordinates = (dp[0], dp[1])  # Endast (x, y) från datapunkten\n",
    "    for tp in testpoints_list:\n",
    "        distance = euclidean_distance(dp_coordinates, tp)\n",
    "        distances.append((dp_coordinates, tp, distance))\n",
    "\n",
    "# Skriv ut avstånden\n",
    "for dp_coordinates, tp, distance in distances:\n",
    "    print(f\"Avstånd mellan datapunkt {dp_coordinates} och testpunkt {tp}: {distance:.2f}\")\n",
    "\n",
    "# Splitting data into two groups based on label for plotting\n",
    "pichu_data = [(w, h) for w, h, label in datapoints_list if label == 0]\n",
    "pikachu_data = [(w, h) for w, h, label in datapoints_list if label == 1]\n",
    "\n",
    "# Extracting width and height for plotting\n",
    "pichu_width, pichu_height = zip(*pichu_data)\n",
    "pikachu_width, pikachu_height = zip(*pikachu_data)\n",
    "\n",
    "# Plotting the data\n",
    "plt.figure(figsize=(8, 6))\n",
    "plt.scatter(pichu_width, pichu_height, color='blue', label='Pichu', marker='o')\n",
    "plt.scatter(pikachu_width, pikachu_height, color='orange', label='Pikachu', marker='o')\n",
    "\n",
    "# Labels and title\n",
    "plt.xlabel('Width (cm)')\n",
    "plt.ylabel('Height (cm)')\n",
    "plt.title('Pichu vs Pikachu: Width vs Height')\n",
    "plt.legend()\n",
    "plt.grid(True)\n",
    "plt.show()\n"
   ]
  }
 ],
 "metadata": {
  "kernelspec": {
   "display_name": ".venv",
   "language": "python",
   "name": "python3"
  },
  "language_info": {
   "codemirror_mode": {
    "name": "ipython",
    "version": 3
   },
   "file_extension": ".py",
   "mimetype": "text/x-python",
   "name": "python",
   "nbconvert_exporter": "python",
   "pygments_lexer": "ipython3",
   "version": "3.12.5"
  }
 },
 "nbformat": 4,
 "nbformat_minor": 2
}
