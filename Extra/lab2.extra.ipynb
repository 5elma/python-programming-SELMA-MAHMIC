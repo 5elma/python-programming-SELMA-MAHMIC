{
 "cells": [
  {
   "cell_type": "code",
   "execution_count": null,
   "metadata": {},
   "outputs": [],
   "source": [
    "# Skapa en funkion med ett argument\n",
    "def user_answer(x):\n",
    "    while True:   # Skapa oändlig loop som fortsätter tills det blir rätt inmatning\n",
    "        try:\n",
    "            user_input = float(input(x).replace(\",\", \".\")) # Konvertera inmatningen till float genom att ersätta \",\" med \".\"\n",
    "             \n",
    "            if user_input < 0:\n",
    "                print(\"Fel: Värdet kan inte vara negativt. Försök igen.\")  # Kontrollera om inmatningen är negativ\n",
    "            else:\n",
    "                return user_input  # Returnera inmatningen om det är positivt\n",
    "        except ValueError:\n",
    "            print(\"Fel: Vänligen mata in ett numeriskt värde. Försök igen.\")  # Om inmatningen varken är negativt eller positiv utan innehåller bokstäver\n",
    "\n",
    "# Skapa funktion\n",
    "def main():\n",
    "    # Be användaren mata in längd och bredd, med felhantering för icke-numeriska och negativa tal\n",
    "    user_width = user_answer(\"Ange bredd i meter: \")   # Hämta en positiv bredd\n",
    "    user_height = user_answer(\"Ange längd i meter: \")  # Hämta en positiv längd\n",
    "\n",
    "    # Använd pichu-funktionen för att avgöra om det är en Pichu eller Pikachu\n",
    "    resultat = pichu(user_width, user_height)\n",
    "\n",
    "    # Skriv ut resultatet\n",
    "    print(f\"Med dessa mått ({user_width} meter bred och {user_height} meter lång) är det en {resultat}.\")\n",
    "\n",
    "# Kör huvudprogrammet om detta skript körs direkt\n",
    "if __name__ == \"__main__\":\n",
    "    main()"
   ]
  }
 ],
 "metadata": {
  "language_info": {
   "name": "python"
  }
 },
 "nbformat": 4,
 "nbformat_minor": 2
}
