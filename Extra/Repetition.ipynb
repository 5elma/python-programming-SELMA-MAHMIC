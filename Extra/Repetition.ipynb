{
 "cells": [
  {
   "cell_type": "markdown",
   "metadata": {},
   "source": [
    "## Variabel och konstanter\n",
    "Variabler är bitar av minne som innehåller tal. Vi tolkar talen beroende på vilken _typ_ variabeln är.\n",
    "Konstanter är \"immutable\", dvs. kan inte förändras efter att de skapats."
   ]
  },
  {
   "cell_type": "code",
   "execution_count": null,
   "metadata": {},
   "outputs": [],
   "source": [
    "# Type-hints are optional\n",
    "a: int = 42\n",
    "b: str = \"hejsan\"\n",
    "c: list = [2,3,4]\n",
    "d: list = [\"2,\", 3, 2.0]\n",
    "# Lists can have different objects in them, aka \"polytypic lists\"\n",
    "kv: dict = {\"Ada\": 1, \"LoveLoc\": 2, \"Einstein\": 3}\n",
    "sm: set = {1,2,3,4}\n",
    "sm2: set = {\"a\", \"b\"}\n",
    "# Sets can also have different types, as long as they can be \"hased\", ie converted to numbers\n",
    "sm3: set = {\"a\", 1}\n",
    "const = (1,2)\n",
    "const = (1,)\n"
   ]
  },
  {
   "cell_type": "markdown",
   "metadata": {},
   "source": [
    "## Funktioner"
   ]
  },
  {
   "cell_type": "code",
   "execution_count": 3,
   "metadata": {},
   "outputs": [
    {
     "name": "stdout",
     "output_type": "stream",
     "text": [
      "3\n"
     ]
    }
   ],
   "source": [
    "# Pure function, no side-effect, only input parameters and predefined operations\n",
    "def my_function(a: int, b: int, c: int=1) -> int:\n",
    "    \"\"\"Here there should be a usage text for this function.\"\"\"\n",
    "    return a * c + b\n",
    "\n",
    "def my_proc():\n",
    "    with open(\"somfile\") as file:\n",
    "        return file.readlines()\n",
    "    \n",
    "import numpy as np\n",
    "radius = 3.0 \n",
    "area = 2 * np.pi * np.power(radius, 2)\n",
    "\n",
    "np.pi = 3 \n",
    "print(np.pi)\n",
    "\n"
   ]
  },
  {
   "cell_type": "markdown",
   "metadata": {},
   "source": [
    "Python använder (per reommendation)\n",
    "CamelCase \n",
    "this-is-kebab-case\n",
    "this_is_snake_case\n",
    "GLOBALVARIABLES\n"
   ]
  },
  {
   "cell_type": "markdown",
   "metadata": {},
   "source": [
    "## Listor"
   ]
  },
  {
   "cell_type": "code",
   "execution_count": 40,
   "metadata": {},
   "outputs": [
    {
     "name": "stdout",
     "output_type": "stream",
     "text": [
      "ETTA ÄR\n",
      "[1, 2, 3, 4, 5, 6, 7, 8, 9, 10]\n",
      "DETTA till 5\n",
      "G\n",
      "9\n",
      " 3 till -3\n",
      "GNÄRTS NE RÄ ATTED allt\n"
     ]
    },
    {
     "data": {
      "text/plain": [
       "(10, [0, 1, 2, 3, 4, 5, 6, 7, 8, 9, 10])"
      ]
     },
     "execution_count": 40,
     "metadata": {},
     "output_type": "execute_result"
    }
   ],
   "source": [
    "# Indexering\n",
    "A = [0,1,2,3,4,5,6,7,8,9,10]\n",
    "S = \"DETTA ÄR EN STRÄNG\"\n",
    "# Index slicing\n",
    "#print(S[1:8])\n",
    "print(A[1:])\n",
    "print(f\"{S[:5]} till 5\")\n",
    "print(S[-1])\n",
    "print(A[-2])\n",
    "print(f\"{S[-2:3]} 3 till -3\")\n",
    "print(f\"{S[::-1]} allt\")\n",
    "\n",
    "e = A.pop() # Ta bort sista elementet\n",
    "\n",
    "A.append(e) # Lägg tillbaka sista elementet\n",
    "e, A"
   ]
  },
  {
   "cell_type": "code",
   "execution_count": 41,
   "metadata": {},
   "outputs": [
    {
     "data": {
      "text/plain": [
       "([0, 4, 16, 36, 64], [0, 4, 16, 36, 64])"
      ]
     },
     "execution_count": 41,
     "metadata": {},
     "output_type": "execute_result"
    }
   ],
   "source": [
    "# List comprehension\n",
    "\n",
    "sqrs = [i**2 for i in range(10) if i % 2 == 0]\n",
    "\n",
    "sqr_list = []\n",
    "for i in range(10):\n",
    "    if i % 2 == 0:\n",
    "         sqr_list.append(i**2)\n",
    "    \n",
    "sqr_list, sqrs"
   ]
  },
  {
   "cell_type": "code",
   "execution_count": 42,
   "metadata": {},
   "outputs": [
    {
     "name": "stdout",
     "output_type": "stream",
     "text": [
      "[1, 4, 9, 16]\n"
     ]
    },
    {
     "data": {
      "text/plain": [
       "([0, 0, 2, 6, 4, 12, 6, 18, 8, 24], [0, 0, 2, 6, 4, 12, 6, 18, 8, 24])"
      ]
     },
     "execution_count": 42,
     "metadata": {},
     "output_type": "execute_result"
    }
   ],
   "source": [
    "# List comprehension\n",
    "def f(x):\n",
    "   return x**2\n",
    "\n",
    "print(list(map(f, [1,2,3,4])))\n",
    "# Equivalent\n",
    "[f(i) for i in {1,2,3,4}]\n",
    "\n",
    "sqrs = [i*j for i in range(10) for j in range(5) if i % 2 == 0 and j % 2 != 0]\n",
    "\n",
    "sqr_list = []\n",
    "for i in range(10):\n",
    "    for j in range(5):\n",
    "       if i % 2 == 0 and j % 2 != 0:\n",
    "         sqr_list.append(i*j)\n",
    "    \n",
    "sqr_list, sqrs"
   ]
  },
  {
   "cell_type": "markdown",
   "metadata": {},
   "source": [
    "## Dictionary"
   ]
  },
  {
   "cell_type": "code",
   "execution_count": null,
   "metadata": {},
   "outputs": [],
   "source": [
    "kv = {\"a\":1, \"b\":2, \"c\":3}\n",
    "# Indexeras med \"nycklar\"\n",
    "print(kv[\"a\"])\n",
    "\n",
    "for k in kv:\n",
    "    print(k)\n",
    "\n",
    "for k in kv:\n",
    "    print(kv[k])\n",
    "\n",
    "for v in kv.values():\n",
    "    print(v)\n",
    "\n",
    "for k, v in kv.items():\n",
    "    print(k, v)\n",
    "# Iterating dictiornaries\n",
    "for k in kv():\n",
    "    print(k, kv[k])\n",
    "\n",
    "A = [\"Ada\"], \"Kurt\", \"Alan\", \"Alonzo\"\n",
    "B = [\"Byron\", \"Gödet\", \"Turing\", \"Church\"]\n",
    "\n",
    "computer_scientists = {efternamn: fornamn for efternamn in B for fornamn in A}\n",
    "computer_scientists"
   ]
  },
  {
   "cell_type": "code",
   "execution_count": 53,
   "metadata": {},
   "outputs": [
    {
     "name": "stdout",
     "output_type": "stream",
     "text": [
      "{'Ada': 'Byron', 'Kurt': 'Gödet', 'Alan': 'Turing', 'Alonzo': 'Church'}\n"
     ]
    }
   ],
   "source": [
    "A = [\"Ada\", \"Kurt\", \"Alan\", \"Alonzo\"]\n",
    "B = [\"Byron\", \"Gödet\", \"Turing\", \"Church\"]\n",
    "\n",
    "computer_scientists = {efternamn: fornamn.strip() for fornamn, efternamn in zip(A, B)}\n",
    "print(dict(zip(A, B)))\n"
   ]
  },
  {
   "cell_type": "code",
   "execution_count": null,
   "metadata": {},
   "outputs": [],
   "source": [
    "# Olika dictionarys\n",
    "dict().__dir__()"
   ]
  },
  {
   "cell_type": "code",
   "execution_count": null,
   "metadata": {},
   "outputs": [],
   "source": []
  }
 ],
 "metadata": {
  "kernelspec": {
   "display_name": ".venv",
   "language": "python",
   "name": "python3"
  },
  "language_info": {
   "codemirror_mode": {
    "name": "ipython",
    "version": 3
   },
   "file_extension": ".py",
   "mimetype": "text/x-python",
   "name": "python",
   "nbconvert_exporter": "python",
   "pygments_lexer": "ipython3",
   "version": "3.12.5"
  }
 },
 "nbformat": 4,
 "nbformat_minor": 2
}
