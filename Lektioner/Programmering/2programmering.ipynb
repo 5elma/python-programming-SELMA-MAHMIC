{
 "cells": [
  {
   "cell_type": "code",
   "execution_count": null,
   "metadata": {},
   "outputs": [],
   "source": [
    "a = 3 # int\n",
    "name = \"my name\" # str"
   ]
  },
  {
   "cell_type": "code",
   "execution_count": null,
   "metadata": {},
   "outputs": [],
   "source": [
    "f = flase\n",
    "t = true\n",
    "\n",
    "if conditional:\n",
    "    statements\n",
    "    ...\n",
    "else:\n",
    "    statements\n",
    "    ...\n"
   ]
  },
  {
   "cell_type": "code",
   "execution_count": 4,
   "metadata": {},
   "outputs": [
    {
     "name": "stdout",
     "output_type": "stream",
     "text": [
      "Du får se filmen! Välkommen.\n"
     ]
    }
   ],
   "source": [
    "age = int(input(\"Enter your age: \"))\n",
    "age_limit = 15\n",
    "\n",
    "if age >= age_limit:\n",
    "    print(\"Du får se filmen! Välkommen.\")\n",
    "else:\n",
    "    print(\"Åldersgränsen är 15år tyvärr.\")"
   ]
  },
  {
   "cell_type": "code",
   "execution_count": 5,
   "metadata": {},
   "outputs": [
    {
     "name": "stdout",
     "output_type": "stream",
     "text": [
      "Odd number!\n"
     ]
    }
   ],
   "source": [
    "number = 5\n",
    "if number % 2 == 0:\n",
    "    print(\"Even number!\")\n",
    "else:\n",
    "    print(\"Odd number!\")"
   ]
  },
  {
   "cell_type": "code",
   "execution_count": 10,
   "metadata": {},
   "outputs": [
    {
     "name": "stdout",
     "output_type": "stream",
     "text": [
      "Give patient 1000mg\n"
     ]
    }
   ],
   "source": [
    "weight = float(input(\"Input your weight in kg\"))\n",
    "if weight < 20:\n",
    "    print(\"Give patient 500mg\")\n",
    "elif weight < 40:\n",
    "    print(\"Give patient 700mg\")\n",
    "else:\n",
    "    print(\"Give patient 1000mg\")"
   ]
  },
  {
   "cell_type": "code",
   "execution_count": null,
   "metadata": {},
   "outputs": [],
   "source": [
    "a = 3 < 2 \n",
    "b = 3 <= 3\n",
    "c = 4 > 2\n",
    "d = 5 >= 4\n",
    "e = 5 == 5\n",
    "f = 5 != 4\n",
    "g = 3 > 2 and 2 > 1\n",
    "h = 3 > 3 or 3 > 2\n",
    "i = not False == True\n",
    "j = not i \n",
    "p = \"a\" < \"b\"\n"
   ]
  },
  {
   "cell_type": "code",
   "execution_count": null,
   "metadata": {},
   "outputs": [],
   "source": [
    "while condition:\n",
    "    statements\n",
    "    ..."
   ]
  },
  {
   "cell_type": "code",
   "execution_count": 11,
   "metadata": {},
   "outputs": [
    {
     "name": "stdout",
     "output_type": "stream",
     "text": [
      "Still true\n",
      "Still true\n",
      "Still true\n",
      "Still true\n",
      "Still true\n",
      "Still true\n"
     ]
    }
   ],
   "source": [
    "loop = True\n",
    "n = 0\n",
    "while loop:\n",
    "    print(\"Still true\")\n",
    "    n = n + 2\n",
    "    if n > 10:\n",
    "        loop = False"
   ]
  },
  {
   "cell_type": "code",
   "execution_count": 12,
   "metadata": {},
   "outputs": [
    {
     "name": "stdout",
     "output_type": "stream",
     "text": [
      "Still true 0\n",
      "Still true 2\n",
      "Still true 4\n",
      "Still true 6\n",
      "Still true 8\n",
      "Still true 10\n"
     ]
    }
   ],
   "source": [
    "loop = True\n",
    "n = 0\n",
    "while loop:\n",
    "    print(f\"Still true {n}\")\n",
    "    n = n + 2\n",
    "    if n > 10:\n",
    "        loop = False"
   ]
  },
  {
   "cell_type": "markdown",
   "metadata": {},
   "source": [
    "Example - oil leakage\n",
    "\n",
    "There is an oil leakage causing the bird population on an island to halve each year. From the start there were 80000 birds, how many years does it take until only one tenth are remaining?"
   ]
  },
  {
   "cell_type": "code",
   "execution_count": 13,
   "metadata": {},
   "outputs": [
    {
     "name": "stdout",
     "output_type": "stream",
     "text": [
      "Year 0, 80000 birds\n",
      "Year 1, 40000 birds\n",
      "Year 2, 20000 birds\n",
      "Year 3, 10000 birds\n",
      "It takes 4 years for the birds to reach one tenth.\n"
     ]
    }
   ],
   "source": [
    "birds = 80000\n",
    "year = 0\n",
    "\n",
    "while birds > 8000:\n",
    "    print(f\"Year {year}, {birds:.0f} birds\")\n",
    "    birds /= 2\n",
    "    year += 1 \n",
    "\n",
    "print(f\"It takes {year} years for the birds to reach one tenth.\")"
   ]
  },
  {
   "cell_type": "code",
   "execution_count": 14,
   "metadata": {},
   "outputs": [
    {
     "name": "stdout",
     "output_type": "stream",
     "text": [
      "-9 -7 -5 -3 -1 1 3 5 7 9 "
     ]
    }
   ],
   "source": [
    "n = -9\n",
    "\n",
    "while n <= 10:\n",
    "    print(n, end=\" \")\n",
    "    n += 2\n"
   ]
  },
  {
   "cell_type": "code",
   "execution_count": 15,
   "metadata": {},
   "outputs": [
    {
     "name": "stdout",
     "output_type": "stream",
     "text": [
      "-9\t-7\t-5\t-3\t-1\t1\t3\t5\t7\t9\t"
     ]
    }
   ],
   "source": [
    "n = -9\n",
    "\n",
    "while n <= 10:\n",
    "    print(n, end=\"\\t\")\n",
    "    n += 2"
   ]
  },
  {
   "cell_type": "code",
   "execution_count": 22,
   "metadata": {},
   "outputs": [
    {
     "name": "stdout",
     "output_type": "stream",
     "text": [
      "3 is wrong\n",
      "6 is wrong\n",
      "88 is wrong\n",
      "Good bye\n"
     ]
    }
   ],
   "source": [
    "import random as rng\n",
    "\n",
    "while True:\n",
    "    number1 = rng.randint(1, 10)\n",
    "    number2 = rng.randint(1, 10)\n",
    "\n",
    "    user_answer = int(input(f\"What is {number1} * {number2}?\"))\n",
    "    if user_answer == number1*number2:\n",
    "        print(\"Correct\")\n",
    "    else: \n",
    "        print(f\"{user_answer} is wrong\")\n",
    "    \n",
    "    play_again = input(\"Want to play again? (y for yes)\")\n",
    "\n",
    "    if play_again != \"y\":\n",
    "        print(\"Good bye\")\n",
    "        break"
   ]
  },
  {
   "cell_type": "code",
   "execution_count": 1,
   "metadata": {},
   "outputs": [
    {
     "name": "stdout",
     "output_type": "stream",
     "text": [
      "0\n",
      "1\n",
      "2\n",
      "3\n",
      "4\n",
      "5\n",
      "6\n",
      "7\n",
      "8\n",
      "9\n"
     ]
    }
   ],
   "source": [
    "for i in range(10):\n",
    "    print(i)"
   ]
  },
  {
   "cell_type": "code",
   "execution_count": 2,
   "metadata": {},
   "outputs": [
    {
     "name": "stdout",
     "output_type": "stream",
     "text": [
      "1\n",
      "2\n",
      "43\n",
      "6\n",
      "4\n",
      "3\n",
      "6\n",
      "4\n",
      "43\n"
     ]
    }
   ],
   "source": [
    "ls = [1,2,43,6,4,3,6,4,43]\n",
    "\n",
    "for l in ls:\n",
    "    print(l)"
   ]
  },
  {
   "cell_type": "code",
   "execution_count": 3,
   "metadata": {},
   "outputs": [
    {
     "name": "stdout",
     "output_type": "stream",
     "text": [
      "a\n",
      "b\n",
      "c\n"
     ]
    }
   ],
   "source": [
    "ds = {\"a\": \"aval\", \"b\": \"bval\", \"c\": \"cval\"}\n",
    "\n",
    "for i in ds:\n",
    "    print(i)\n"
   ]
  },
  {
   "cell_type": "code",
   "execution_count": 4,
   "metadata": {},
   "outputs": [
    {
     "name": "stdout",
     "output_type": "stream",
     "text": [
      "a aval\n",
      "b bval\n",
      "c cval\n"
     ]
    }
   ],
   "source": [
    "ds = {\"a\": \"aval\", \"b\": \"bval\", \"c\": \"cval\"}\n",
    "\n",
    "for k, v in ds.items():\n",
    "    print(k, v)\n"
   ]
  },
  {
   "cell_type": "code",
   "execution_count": 5,
   "metadata": {},
   "outputs": [
    {
     "name": "stdout",
     "output_type": "stream",
     "text": [
      "a\n",
      "b\n",
      "c\n"
     ]
    }
   ],
   "source": [
    "ds = {\"a\": \"aval\", \"b\": \"bval\", \"c\": \"cval\"}\n",
    "\n",
    "for k in ds.keys():\n",
    "    print(k)"
   ]
  },
  {
   "cell_type": "code",
   "execution_count": 6,
   "metadata": {},
   "outputs": [
    {
     "name": "stdout",
     "output_type": "stream",
     "text": [
      "aval\n",
      "bval\n",
      "cval\n"
     ]
    }
   ],
   "source": [
    "ds = {\"a\": \"aval\", \"b\": \"bval\", \"c\": \"cval\"}\n",
    "\n",
    "for v in ds.values():\n",
    "    print(v)"
   ]
  },
  {
   "cell_type": "code",
   "execution_count": 7,
   "metadata": {},
   "outputs": [
    {
     "name": "stdout",
     "output_type": "stream",
     "text": [
      "0. apple\n",
      "1. orange\n",
      "2. strawberry\n",
      "3. åkerbär\n"
     ]
    }
   ],
   "source": [
    "fruits = [\"apple\", \"orange\", \"strawberry\", \"åkerbär\"]\n",
    "\n",
    "for i, f in enumerate(fruits):\n",
    "    print(f\"{i}. {f}\")"
   ]
  },
  {
   "cell_type": "code",
   "execution_count": 8,
   "metadata": {},
   "outputs": [
    {
     "name": "stdout",
     "output_type": "stream",
     "text": [
      "1+3+5+7+9+11+13+15+17+19=100"
     ]
    }
   ],
   "source": [
    "sum = 0\n",
    "\n",
    "for i in range(1, 20, 2):\n",
    "    sum += i\n",
    "\n",
    "    print(i, end= \"\")\n",
    "    if i != 19:\n",
    "        print(\"+\", end=\"\")\n",
    "\n",
    "    if i == 19:\n",
    "        print(f\"={sum}\", end=\"\")"
   ]
  },
  {
   "cell_type": "code",
   "execution_count": 2,
   "metadata": {},
   "outputs": [
    {
     "name": "stdout",
     "output_type": "stream",
     "text": [
      "(0, 0)(0, 1)(0, 2)\n",
      "(1, 0)(1, 1)(1, 2)\n",
      "(2, 0)(2, 1)(2, 2)\n"
     ]
    }
   ],
   "source": [
    "for x in range(0,3):\n",
    "    for j in range(0,3):\n",
    "        print(f\"({x}, {j})\", end=\"\")\n",
    "    print()"
   ]
  },
  {
   "cell_type": "code",
   "execution_count": 3,
   "metadata": {},
   "outputs": [
    {
     "name": "stdout",
     "output_type": "stream",
     "text": [
      "Number of sixes 1661 in 10000 dice rolls.\n",
      "Probability of six: 0.1661\n"
     ]
    }
   ],
   "source": [
    "import random as rng\n",
    "num_sixes = 0\n",
    "dice_rolls = 10000\n",
    "\n",
    "for i in range(dice_rolls):\n",
    "    dice = rng.randint(1,6)\n",
    "    if dice == 6:\n",
    "        num_sixes += 1\n",
    "\n",
    "print(f\"Number of sixes {num_sixes} in {dice_rolls} dice rolls.\")\n",
    "print(f\"Probability of six: {num_sixes / dice_rolls}\")\n",
    "\n",
    "\n"
   ]
  },
  {
   "cell_type": "code",
   "execution_count": 4,
   "metadata": {},
   "outputs": [
    {
     "name": "stdout",
     "output_type": "stream",
     "text": [
      "tv_shows[0]: antikrundan\n",
      "tv_shows[1]: Mästerkockarna\n"
     ]
    }
   ],
   "source": [
    "tv_shows = [\"antikrundan\", \"Mästerkockarna\", \"Aktuellt\", \"Talang\"]\n",
    "print(f\"tv_shows[0]: {tv_shows[0]}\")\n",
    "print(f\"tv_shows[1]: {tv_shows[1]}\")\n"
   ]
  },
  {
   "cell_type": "code",
   "execution_count": 5,
   "metadata": {},
   "outputs": [
    {
     "name": "stdout",
     "output_type": "stream",
     "text": [
      "tv_shows[0]: antikrundan\n",
      "tv_shows[1]: Mästerkockarna\n",
      "tv_shows[-1]: Talang\n"
     ]
    }
   ],
   "source": [
    "tv_shows = [\"antikrundan\", \"Mästerkockarna\", \"Aktuellt\", \"Talang\"]\n",
    "print(f\"tv_shows[0]: {tv_shows[0]}\")\n",
    "print(f\"tv_shows[1]: {tv_shows[1]}\")\n",
    "\n",
    "print(f\"tv_shows[-1]: {tv_shows[-1]}\")"
   ]
  },
  {
   "cell_type": "code",
   "execution_count": 6,
   "metadata": {},
   "outputs": [
    {
     "name": "stdout",
     "output_type": "stream",
     "text": [
      "Added an element: ['Vetenskapens värld', 'Mästerkockarna', 'Aktuellt', 'Talang', 'Pokemon']\n"
     ]
    }
   ],
   "source": [
    "tv_shows[0] =\"Vetenskapens värld\"\n",
    "\n",
    "tv_shows.append(\"Pokemon\")\n",
    "\n",
    "print(f\"Added an element: {tv_shows}\")"
   ]
  },
  {
   "cell_type": "code",
   "execution_count": 7,
   "metadata": {},
   "outputs": [
    {
     "name": "stdout",
     "output_type": "stream",
     "text": [
      "['Mästerkockarna', 'Aktuellt']\n"
     ]
    }
   ],
   "source": [
    "print(tv_shows[1:3])"
   ]
  },
  {
   "cell_type": "code",
   "execution_count": 8,
   "metadata": {},
   "outputs": [
    {
     "name": "stdout",
     "output_type": "stream",
     "text": [
      "['alfa', 'beta', 'gamma', 'iota', 'zeta']\n"
     ]
    }
   ],
   "source": [
    "greek_letters = [\"beta\", \"alfa\", \"zeta\", \"gamma\", \"iota\"]\n",
    "greek_letters.sort()\n",
    "\n",
    "print(greek_letters)"
   ]
  }
 ],
 "metadata": {
  "kernelspec": {
   "display_name": "Python 3",
   "language": "python",
   "name": "python3"
  },
  "language_info": {
   "codemirror_mode": {
    "name": "ipython",
    "version": 3
   },
   "file_extension": ".py",
   "mimetype": "text/x-python",
   "name": "python",
   "nbconvert_exporter": "python",
   "pygments_lexer": "ipython3",
   "version": "3.12.5"
  }
 },
 "nbformat": 4,
 "nbformat_minor": 2
}
