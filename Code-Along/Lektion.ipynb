{
 "cells": [
  {
   "cell_type": "code",
   "execution_count": 2,
   "metadata": {},
   "outputs": [
    {
     "ename": "SyntaxError",
     "evalue": "cannot assign to expression here. Maybe you meant '==' instead of '='? (1784102884.py, line 1)",
     "output_type": "error",
     "traceback": [
      "\u001b[1;36m  Cell \u001b[1;32mIn[2], line 1\u001b[1;36m\u001b[0m\n\u001b[1;33m    ax^2 + bx + c = 0\u001b[0m\n\u001b[1;37m    ^\u001b[0m\n\u001b[1;31mSyntaxError\u001b[0m\u001b[1;31m:\u001b[0m cannot assign to expression here. Maybe you meant '==' instead of '='?\n"
     ]
    }
   ],
   "source": [
    "ax^2 + bx + c = 0\n",
    "x^2 + 1 = 0"
   ]
  },
  {
   "cell_type": "code",
   "execution_count": 6,
   "metadata": {},
   "outputs": [
    {
     "name": "stdout",
     "output_type": "stream",
     "text": [
      "(np.float64(nan), np.float64(nan))\n"
     ]
    },
    {
     "name": "stderr",
     "output_type": "stream",
     "text": [
      "C:\\Users\\SelmaMahmic-AI24GBG\\AppData\\Local\\Temp\\ipykernel_23352\\3199165146.py:7: RuntimeWarning: invalid value encountered in sqrt\n",
      "  x1 = np.divide(-b + np.sqrt(np.square(b) - 4*a*c), 2*a)\n",
      "C:\\Users\\SelmaMahmic-AI24GBG\\AppData\\Local\\Temp\\ipykernel_23352\\3199165146.py:8: RuntimeWarning: invalid value encountered in sqrt\n",
      "  x0 = np.divide(-b + np.sqrt(np.square(b) - 4*a*c), 2*a)\n"
     ]
    }
   ],
   "source": [
    "import numpy as np\n",
    "\n",
    "q_term = [1, 1, 1]\n",
    "\n",
    "def quadratic_solver(coeff):\n",
    "    c, b, a = coeff\n",
    "    x1 = np.divide(-b + np.sqrt(np.square(b) - 4*a*c), 2*a)\n",
    "    x0 = np.divide(-b + np.sqrt(np.square(b) - 4*a*c), 2*a)\n",
    "    return x0, x1\n",
    "\n",
    "print(quadratic_solver(q_term))\n"
   ]
  },
  {
   "cell_type": "code",
   "execution_count": 7,
   "metadata": {},
   "outputs": [
    {
     "name": "stdout",
     "output_type": "stream",
     "text": [
      "Year 2016 is the first year that pasta consumption reaches 15kg\n"
     ]
    }
   ],
   "source": [
    "# year 0 = 1960\n",
    "\n",
    "for year in range(1000):\n",
    "    pasta_consumption = .791 * np.exp(.0526*year)\n",
    "    if pasta_consumption > 15:\n",
    "        print(f\"Year {year+1960} is the first year that pasta consumption reaches 15kg\")\n",
    "        break\n",
    "\n"
   ]
  },
  {
   "cell_type": "code",
   "execution_count": null,
   "metadata": {},
   "outputs": [],
   "source": [
    "import matplotlib.pyplot as plt\n",
    "\n",
    "pasta_per_year = []\n",
    "\n",
    "for year in range(140):\n",
    "    pasta_consumption = .791 * np.exp(.0526*year)\n",
    "    pasta_per_year.append(pasta_consumption)\n",
    "\n",
    "plt.plot(range1960, )"
   ]
  },
  {
   "cell_type": "code",
   "execution_count": null,
   "metadata": {},
   "outputs": [],
   "source": []
  }
 ],
 "metadata": {
  "kernelspec": {
   "display_name": "Python 3",
   "language": "python",
   "name": "python3"
  },
  "language_info": {
   "codemirror_mode": {
    "name": "ipython",
    "version": 3
   },
   "file_extension": ".py",
   "mimetype": "text/x-python",
   "name": "python",
   "nbconvert_exporter": "python",
   "pygments_lexer": "ipython3",
   "version": "3.12.5"
  }
 },
 "nbformat": 4,
 "nbformat_minor": 2
}
