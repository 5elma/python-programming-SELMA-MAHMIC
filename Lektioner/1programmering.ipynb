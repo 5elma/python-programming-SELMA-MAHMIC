{
 "cells": [
  {
   "cell_type": "code",
   "execution_count": 2,
   "metadata": {},
   "outputs": [
    {
     "name": "stdout",
     "output_type": "stream",
     "text": [
      "3\n"
     ]
    }
   ],
   "source": [
    "a = 3 \n",
    "print(a)"
   ]
  },
  {
   "cell_type": "code",
   "execution_count": 3,
   "metadata": {},
   "outputs": [
    {
     "name": "stdout",
     "output_type": "stream",
     "text": [
      "3.35\n"
     ]
    }
   ],
   "source": [
    "a = 3.35\n",
    "print(a)"
   ]
  },
  {
   "cell_type": "code",
   "execution_count": 4,
   "metadata": {},
   "outputs": [
    {
     "name": "stdout",
     "output_type": "stream",
     "text": [
      "Hello World\n"
     ]
    }
   ],
   "source": [
    "a = 3.35\n",
    "print(\"Hello World\")"
   ]
  },
  {
   "cell_type": "code",
   "execution_count": 5,
   "metadata": {},
   "outputs": [
    {
     "name": "stdout",
     "output_type": "stream",
     "text": [
      "The number is 3.35\n"
     ]
    }
   ],
   "source": [
    "a = 3.35\n",
    "print(f\"The number is {a}\")"
   ]
  },
  {
   "cell_type": "code",
   "execution_count": 6,
   "metadata": {},
   "outputs": [
    {
     "name": "stdout",
     "output_type": "stream",
     "text": [
      "The number is 4.35\n"
     ]
    }
   ],
   "source": [
    "a = 3.35 \n",
    "print(f\"The number is {a+1}\")"
   ]
  },
  {
   "cell_type": "code",
   "execution_count": 1,
   "metadata": {},
   "outputs": [
    {
     "name": "stdout",
     "output_type": "stream",
     "text": [
      " Funktionen har värde: 5\n"
     ]
    }
   ],
   "source": [
    "def min_funktion(a, b):\n",
    "    c = a + b\n",
    "    return c + 1\n",
    "\n",
    "print(f\" Funktionen har värde: {min_funktion(1, 3)}\")"
   ]
  },
  {
   "cell_type": "code",
   "execution_count": 2,
   "metadata": {},
   "outputs": [
    {
     "name": "stdout",
     "output_type": "stream",
     "text": [
      "Hello World\n",
      "Funktionen har värde: None\n"
     ]
    }
   ],
   "source": [
    "def min_funktion():\n",
    "    print(\"Hello World\")\n",
    "\n",
    "print(f\"Funktionen har värde: {min_funktion()}\")"
   ]
  },
  {
   "cell_type": "code",
   "execution_count": 3,
   "metadata": {},
   "outputs": [
    {
     "data": {
      "text/plain": [
       "0.5"
      ]
     },
     "execution_count": 3,
     "metadata": {},
     "output_type": "execute_result"
    }
   ],
   "source": [
    "a = 1 / 2 \n",
    "a"
   ]
  },
  {
   "cell_type": "code",
   "execution_count": 5,
   "metadata": {},
   "outputs": [
    {
     "data": {
      "text/plain": [
       "4"
      ]
     },
     "execution_count": 5,
     "metadata": {},
     "output_type": "execute_result"
    }
   ],
   "source": [
    "a = 2 ** 2\n",
    "a"
   ]
  },
  {
   "cell_type": "code",
   "execution_count": 9,
   "metadata": {},
   "outputs": [
    {
     "data": {
      "text/plain": [
       "np.float64(0.5)"
      ]
     },
     "execution_count": 9,
     "metadata": {},
     "output_type": "execute_result"
    }
   ],
   "source": [
    "import numpy as np\n",
    "a = np.divide(1, 2)\n",
    "a"
   ]
  },
  {
   "cell_type": "code",
   "execution_count": 17,
   "metadata": {},
   "outputs": [
    {
     "name": "stdout",
     "output_type": "stream",
     "text": [
      "My name is Selma Mahmic\n",
      "My age is 26\n",
      "Now my age is 25.5\n"
     ]
    }
   ],
   "source": [
    "firstname = \"Selma\" \n",
    "lastname = \"Mahmic\" \n",
    "age = 26 \n",
    "\n",
    "print(f\"My name is {firstname} {lastname}\")\n",
    "print(f\"My age is {age}\")\n",
    "\n",
    "age = 25.5\n",
    "\n",
    "print(f\"Now my age is {age}\")\n"
   ]
  },
  {
   "cell_type": "code",
   "execution_count": 19,
   "metadata": {},
   "outputs": [
    {
     "name": "stdout",
     "output_type": "stream",
     "text": [
      "selma is 26 years old\n"
     ]
    }
   ],
   "source": [
    "name = input(\"What is your name?\")\n",
    "age = input(\"How old are you {name}?\")\n",
    "print(f\"{name} is {age} years old\")"
   ]
  },
  {
   "cell_type": "code",
   "execution_count": 31,
   "metadata": {},
   "outputs": [
    {
     "name": "stdout",
     "output_type": "stream",
     "text": [
      "You exert a force of 441.900 N on the ground.\n",
      "441.9\n"
     ]
    }
   ],
   "source": [
    "gravity = 9.82\n",
    "mass = float(input(\"Enter your weight in kg \"))\n",
    "\n",
    "force = gravity * mass\n",
    "# print(f\"Your exert a force of {force} N on the ground.\")\n",
    "\n",
    "# print(f\"You exert a force of {force:.1f} N on the ground.\")\n",
    "\n",
    "print(f\"You exert a force of {force:.3f} N on the ground.\")\n",
    "\n",
    "print(f\"{round(force, 3)}\")\n"
   ]
  },
  {
   "cell_type": "code",
   "execution_count": 2,
   "metadata": {},
   "outputs": [
    {
     "name": "stdout",
     "output_type": "stream",
     "text": [
      "Circle with radius 66.0 has \n",
      " \t area 27369.56 units, circumference 414.69 units.\n"
     ]
    }
   ],
   "source": [
    "import numpy as np\n",
    "\n",
    "radius = float(input(\"Enter a radius: \"))\n",
    "area = 2 * np.pi * np.power(radius, 2)\n",
    "circumference = 2*np.pi*radius\n",
    "\n",
    "print(f\"Circle with radius {radius} has \\n \\t area {area:.2f} units, circumference {circumference:.2f} units.\")\n",
    "\n",
    "# \\n = radbrytning      \\t = hoppa ut ett steg"
   ]
  },
  {
   "cell_type": "code",
   "execution_count": 3,
   "metadata": {},
   "outputs": [
    {
     "data": {
      "text/plain": [
       "{'Name': 'Selma', 'Surname': 'Mahmic'}"
      ]
     },
     "execution_count": 3,
     "metadata": {},
     "output_type": "execute_result"
    }
   ],
   "source": [
    "a = dict() # {}\n",
    "b = float()\n",
    "c = list () # []\n",
    "\n",
    "a = {\"Name\": \"Selma\", \"Surname\": \"Mahmic\"}\n",
    "a"
   ]
  },
  {
   "cell_type": "code",
   "execution_count": null,
   "metadata": {},
   "outputs": [],
   "source": []
  }
 ],
 "metadata": {
  "kernelspec": {
   "display_name": "Python 3",
   "language": "python",
   "name": "python3"
  },
  "language_info": {
   "codemirror_mode": {
    "name": "ipython",
    "version": 3
   },
   "file_extension": ".py",
   "mimetype": "text/x-python",
   "name": "python",
   "nbconvert_exporter": "python",
   "pygments_lexer": "ipython3",
   "version": "3.12.5"
  }
 },
 "nbformat": 4,
 "nbformat_minor": 2
}
