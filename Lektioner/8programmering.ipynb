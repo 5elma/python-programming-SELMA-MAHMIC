{
 "cells": [
  {
   "cell_type": "code",
   "execution_count": 5,
   "metadata": {},
   "outputs": [],
   "source": [
    "class Square:\n",
    "    def __init__(self, side) -> None:\n",
    "        self._side = side\n",
    "\n",
    "    def get_side(self):\n",
    "        return self._side\n",
    "    \n",
    "    def set_side(self, value):\n",
    "        if not isinstance(value, (int, float)) or value < 0:\n",
    "            raise ValueError(f\"Value must be non-negative int or float, not {type(value).__name}\")\n",
    "        self._side = value\n",
    "\n",
    "    side = property(fget=get_side, fset=set_side)\n",
    "\n",
    "square = Square(10)\n",
    "try:\n",
    "    square.side = -2\n",
    "except ValueError as err:\n",
    "    print(err)"
   ]
  },
  {
   "cell_type": "code",
   "execution_count": null,
   "metadata": {},
   "outputs": [],
   "source": []
  }
 ],
 "metadata": {
  "kernelspec": {
   "display_name": ".venv",
   "language": "python",
   "name": "python3"
  },
  "language_info": {
   "codemirror_mode": {
    "name": "ipython",
    "version": 3
   },
   "file_extension": ".py",
   "mimetype": "text/x-python",
   "name": "python",
   "nbconvert_exporter": "python",
   "pygments_lexer": "ipython3",
   "version": "3.12.5"
  }
 },
 "nbformat": 4,
 "nbformat_minor": 2
}
